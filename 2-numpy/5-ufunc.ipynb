{
 "cells": [
  {
   "cell_type": "markdown",
   "metadata": {},
   "source": [
    "### Trigonometrix functions"
   ]
  },
  {
   "cell_type": "code",
   "execution_count": 3,
   "metadata": {},
   "outputs": [
    {
     "name": "stdout",
     "output_type": "stream",
     "text": [
      "theta:  [0.         1.57079633 3.14159265]\n",
      "sin(theta):  [0.0000000e+00 1.0000000e+00 1.2246468e-16]\n",
      "cos(theta):  [ 1.000000e+00  6.123234e-17 -1.000000e+00]\n",
      "tan(theta):  [ 0.00000000e+00  1.63312394e+16 -1.22464680e-16]\n",
      "Inverse sin:  [0.00000000e+00 1.57079633e+00 1.22464680e-16]\n",
      "Inverse cos:  [0.         1.57079633 3.14159265]\n",
      "Inverse tan:  [ 0.00000000e+00  1.57079633e+00 -1.22464680e-16]\n"
     ]
    }
   ],
   "source": [
    "import numpy as np\n",
    "np.random.seed(0)\n",
    "\n",
    "theta = np.linspace(0, np.pi, 3)\n",
    "print(\"theta: \", theta)\n",
    "print(\"sin(theta): \", np.sin(theta))\n",
    "print(\"cos(theta): \", np.cos(theta))\n",
    "print(\"tan(theta): \", np.tan(theta))\n",
    "\n",
    "print(\"Inverse sin: \", np.arcsin(np.sin(theta)))\n",
    "print(\"Inverse cos: \", np.arccos(np.cos(theta)))\n",
    "print(\"Inverse tan: \", np.arctan(np.tan(theta)))"
   ]
  },
  {
   "cell_type": "markdown",
   "metadata": {},
   "source": [
    "### Exponents and Logarithms"
   ]
  },
  {
   "cell_type": "code",
   "execution_count": 4,
   "metadata": {},
   "outputs": [
    {
     "name": "stdout",
     "output_type": "stream",
     "text": [
      "x = [1, 2, 3]\n",
      "e^x = [ 2.71828183  7.3890561  20.08553692]\n",
      "2^x = [2. 4. 8.]\n",
      "3^x = [ 3  9 27]\n"
     ]
    }
   ],
   "source": [
    "x = [1, 2, 3]\n",
    "print(\"x =\", x)\n",
    "print(\"e^x =\", np.exp(x))\n",
    "print(\"2^x =\", np.exp2(x))\n",
    "print(\"3^x =\", np.power(3, x))"
   ]
  },
  {
   "cell_type": "code",
   "execution_count": 5,
   "metadata": {},
   "outputs": [
    {
     "name": "stdout",
     "output_type": "stream",
     "text": [
      "log(x) = [0.         0.69314718 1.09861229]\n",
      "log2(x) = [0.        1.        1.5849625]\n",
      "log10(x) = [0.         0.30103    0.47712125]\n"
     ]
    }
   ],
   "source": [
    "print(\"log(x) =\", np.log(x))\n",
    "print(\"log2(x) =\", np.log2(x))\n",
    "print(\"log10(x) =\", np.log10(x))"
   ]
  },
  {
   "cell_type": "code",
   "execution_count": 6,
   "metadata": {},
   "outputs": [
    {
     "name": "stdout",
     "output_type": "stream",
     "text": [
      "exp(x) - 1:  [ 1.71828183  6.3890561  19.08553692]\n",
      "Log(1 + x):  [0.69314718 1.09861229 1.38629436]\n"
     ]
    }
   ],
   "source": [
    "print(\"exp(x) - 1: \", np.expm1(x))\n",
    "print(\"Log(1 + x): \", np.log1p(x))"
   ]
  },
  {
   "cell_type": "markdown",
   "metadata": {},
   "source": [
    "### Aggregates"
   ]
  },
  {
   "cell_type": "code",
   "execution_count": 11,
   "metadata": {},
   "outputs": [
    {
     "name": "stdout",
     "output_type": "stream",
     "text": [
      "[0 1 2 3 4]\n",
      "10\n"
     ]
    },
    {
     "data": {
      "text/plain": [
       "array([ 0,  1,  3,  6, 10])"
      ]
     },
     "execution_count": 11,
     "metadata": {},
     "output_type": "execute_result"
    }
   ],
   "source": [
    "x = np.arange(5)\n",
    "print(x)\n",
    "print(np.add.reduce(x))\n",
    "\n",
    "np.add.accumulate(x)"
   ]
  },
  {
   "cell_type": "code",
   "execution_count": 13,
   "metadata": {},
   "outputs": [
    {
     "name": "stdout",
     "output_type": "stream",
     "text": [
      "[0.97861834 0.92559664 0.77815675 0.87001215]\n",
      "[0.07103606 0.0202184  0.46147936]\n"
     ]
    }
   ],
   "source": [
    "m = np.random.random((3, 4))\n",
    "print(m.max(axis=0))  # max of each column\n",
    "print(m.max(axis=1))  # max of each row\n",
    "\n",
    "# axis keyword specifies the dimension of the array that will be collapsed"
   ]
  },
  {
   "cell_type": "markdown",
   "metadata": {},
   "source": [
    "![Aggregation functions of numPy](./assets/agg.png)"
   ]
  },
  {
   "cell_type": "markdown",
   "metadata": {},
   "source": []
  }
 ],
 "metadata": {
  "kernelspec": {
   "display_name": "venv",
   "language": "python",
   "name": "python3"
  },
  "language_info": {
   "codemirror_mode": {
    "name": "ipython",
    "version": 3
   },
   "file_extension": ".py",
   "mimetype": "text/x-python",
   "name": "python",
   "nbconvert_exporter": "python",
   "pygments_lexer": "ipython3",
   "version": "3.12.3"
  }
 },
 "nbformat": 4,
 "nbformat_minor": 2
}
